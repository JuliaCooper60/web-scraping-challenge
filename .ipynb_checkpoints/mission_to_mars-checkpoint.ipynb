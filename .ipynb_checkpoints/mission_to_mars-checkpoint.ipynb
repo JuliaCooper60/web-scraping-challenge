{
 "cells": [
  {
   "cell_type": "code",
   "execution_count": 1,
   "id": "0b1e7f26",
   "metadata": {},
   "outputs": [],
   "source": [
    "# #Jupyter Notebook, BeautifulSoup, Pandas, and Requests/Splinter.\n",
    "# ```python\n",
    "#!pip install splinter\n",
    "#!pip install selenium\n",
    "\n"
   ]
  },
  {
   "cell_type": "code",
   "execution_count": 1,
   "id": "305525d7",
   "metadata": {},
   "outputs": [],
   "source": [
    "from bs4 import BeautifulSoup as sp \n",
    "import pandas as pd\n",
    "import os\n",
    "import time\n",
    "from splinter import Browser \n",
    "import requests\n",
    "from datetime import datetime\n",
    "from webdriver_manager.chrome import ChromeDriverManager \n",
    "import pymongo\n",
    "from flask import Flask, render_template, redirect\n",
    "from flask_pymongo import PyMongo\n"
   ]
  },
  {
   "cell_type": "code",
   "execution_count": 2,
   "id": "e82d507c",
   "metadata": {
    "scrolled": true
   },
   "outputs": [],
   "source": [
    "# Set the executable path and initialize the chrome browser in splinter\n",
    "executable_path = {'executable_path': ChromeDriverManager().install()}\n",
    "browser = Browser('chrome', **executable_path, headless=False)\n"
   ]
  },
  {
   "cell_type": "code",
   "execution_count": 3,
   "id": "3e9c4614",
   "metadata": {},
   "outputs": [
    {
     "data": {
      "text/plain": [
       "True"
      ]
     },
     "execution_count": 3,
     "metadata": {},
     "output_type": "execute_result"
    }
   ],
   "source": [
    "    # Mars News URL of page to be scraped\n",
    "browser.visit('https://mars.nasa.gov/news/')\n",
    "# add waittime to delay loading the page in case page loads slow- splinter function\n",
    "browser.is_element_present_by_css(\"ul.item_list li.slide\", wait_time=1)"
   ]
  },
  {
   "cell_type": "code",
   "execution_count": 4,
   "id": "306f0972",
   "metadata": {},
   "outputs": [],
   "source": [
    "#slisting - need to get all the data "
   ]
  },
  {
   "cell_type": "code",
   "execution_count": 5,
   "id": "8a1a1a9c",
   "metadata": {},
   "outputs": [],
   "source": [
    " # Retrieve the latest news title and paragraph\n",
    "article_soup=sp(browser.html,'html.parser')\n",
    "article_text = article_soup.select_one('div.list_text')\n",
    "news_title = article_text.find('div', class_= 'content_title').get_text()"
   ]
  },
  {
   "cell_type": "code",
   "execution_count": 6,
   "id": "2463d1c3",
   "metadata": {
    "scrolled": true
   },
   "outputs": [],
   "source": [
    "news = article_text.find('div', class_= 'article_teaser_body').get_text()"
   ]
  },
  {
   "cell_type": "markdown",
   "id": "c78d6463",
   "metadata": {},
   "source": [
    "# Space Images"
   ]
  },
  {
   "cell_type": "code",
   "execution_count": 7,
   "id": "e23c89f6",
   "metadata": {},
   "outputs": [],
   "source": [
    "  # Mars Image to be scraped\n",
    "browser.visit('https://spaceimages-mars.com')"
   ]
  },
  {
   "cell_type": "code",
   "execution_count": 8,
   "id": "b294f4ba",
   "metadata": {},
   "outputs": [],
   "source": [
    "# Find and select full image button\n",
    "full_image_button = browser.find_by_tag('button')[1]\n",
    "full_image_button.click()"
   ]
  },
  {
   "cell_type": "code",
   "execution_count": 9,
   "id": "37bfeea4",
   "metadata": {},
   "outputs": [],
   "source": [
    "# Parse html with soup\n",
    "#html = browser.html\n",
    "img_soup = sp(browser.html, 'html.parser')\n"
   ]
  },
  {
   "cell_type": "code",
   "execution_count": 10,
   "id": "c0e2d6e1",
   "metadata": {},
   "outputs": [
    {
     "data": {
      "text/plain": [
       "'image/featured/mars2.jpg'"
      ]
     },
     "execution_count": 10,
     "metadata": {},
     "output_type": "execute_result"
    }
   ],
   "source": [
    "    # Retrieve featured image link\n",
    "relative_image_url = img_soup.find('img', class_='fancybox-image').get('src')\n",
    "relative_image_url"
   ]
  },
  {
   "cell_type": "code",
   "execution_count": 11,
   "id": "ff149514",
   "metadata": {},
   "outputs": [
    {
     "data": {
      "text/plain": [
       "'https://spaceimages-mars.com/image/featured/mars2.jpg'"
      ]
     },
     "execution_count": 11,
     "metadata": {},
     "output_type": "execute_result"
    }
   ],
   "source": [
    "# Use the base url to create an absolute url\n",
    "featured_image_url = f'https://spaceimages-mars.com/{relative_image_url}'\n",
    "featured_image_url"
   ]
  },
  {
   "cell_type": "markdown",
   "id": "f5b91a29",
   "metadata": {},
   "source": [
    "# Mars"
   ]
  },
  {
   "cell_type": "code",
   "execution_count": 12,
   "id": "0bad26d6",
   "metadata": {},
   "outputs": [
    {
     "data": {
      "text/html": [
       "<div>\n",
       "<style scoped>\n",
       "    .dataframe tbody tr th:only-of-type {\n",
       "        vertical-align: middle;\n",
       "    }\n",
       "\n",
       "    .dataframe tbody tr th {\n",
       "        vertical-align: top;\n",
       "    }\n",
       "\n",
       "    .dataframe thead th {\n",
       "        text-align: right;\n",
       "    }\n",
       "</style>\n",
       "<table border=\"1\" class=\"dataframe\">\n",
       "  <thead>\n",
       "    <tr style=\"text-align: right;\">\n",
       "      <th></th>\n",
       "      <th>0</th>\n",
       "      <th>1</th>\n",
       "      <th>2</th>\n",
       "    </tr>\n",
       "  </thead>\n",
       "  <tbody>\n",
       "    <tr>\n",
       "      <th>0</th>\n",
       "      <td>Mars - Earth Comparison</td>\n",
       "      <td>Mars</td>\n",
       "      <td>Earth</td>\n",
       "    </tr>\n",
       "    <tr>\n",
       "      <th>1</th>\n",
       "      <td>Diameter:</td>\n",
       "      <td>6,779 km</td>\n",
       "      <td>12,742 km</td>\n",
       "    </tr>\n",
       "    <tr>\n",
       "      <th>2</th>\n",
       "      <td>Mass:</td>\n",
       "      <td>6.39 × 10^23 kg</td>\n",
       "      <td>5.97 × 10^24 kg</td>\n",
       "    </tr>\n",
       "    <tr>\n",
       "      <th>3</th>\n",
       "      <td>Moons:</td>\n",
       "      <td>2</td>\n",
       "      <td>1</td>\n",
       "    </tr>\n",
       "    <tr>\n",
       "      <th>4</th>\n",
       "      <td>Distance from Sun:</td>\n",
       "      <td>227,943,824 km</td>\n",
       "      <td>149,598,262 km</td>\n",
       "    </tr>\n",
       "    <tr>\n",
       "      <th>5</th>\n",
       "      <td>Length of Year:</td>\n",
       "      <td>687 Earth days</td>\n",
       "      <td>365.24 days</td>\n",
       "    </tr>\n",
       "    <tr>\n",
       "      <th>6</th>\n",
       "      <td>Temperature:</td>\n",
       "      <td>-87 to -5 °C</td>\n",
       "      <td>-88 to 58°C</td>\n",
       "    </tr>\n",
       "  </tbody>\n",
       "</table>\n",
       "</div>"
      ],
      "text/plain": [
       "                         0                1                2\n",
       "0  Mars - Earth Comparison             Mars            Earth\n",
       "1                Diameter:         6,779 km        12,742 km\n",
       "2                    Mass:  6.39 × 10^23 kg  5.97 × 10^24 kg\n",
       "3                   Moons:                2                1\n",
       "4       Distance from Sun:   227,943,824 km   149,598,262 km\n",
       "5          Length of Year:   687 Earth days      365.24 days\n",
       "6             Temperature:     -87 to -5 °C      -88 to 58°C"
      ]
     },
     "execution_count": 12,
     "metadata": {},
     "output_type": "execute_result"
    }
   ],
   "source": [
    "  # Mars facts to be scraped\n",
    "fact_table  = pd.read_html('https://galaxyfacts-mars.com')[0]\n",
    "fact_table.head(10)"
   ]
  },
  {
   "cell_type": "code",
   "execution_count": 13,
   "id": "0a59b73c",
   "metadata": {},
   "outputs": [
    {
     "data": {
      "text/html": [
       "<div>\n",
       "<style scoped>\n",
       "    .dataframe tbody tr th:only-of-type {\n",
       "        vertical-align: middle;\n",
       "    }\n",
       "\n",
       "    .dataframe tbody tr th {\n",
       "        vertical-align: top;\n",
       "    }\n",
       "\n",
       "    .dataframe thead th {\n",
       "        text-align: right;\n",
       "    }\n",
       "</style>\n",
       "<table border=\"1\" class=\"dataframe\">\n",
       "  <thead>\n",
       "    <tr style=\"text-align: right;\">\n",
       "      <th></th>\n",
       "      <th>Mars</th>\n",
       "      <th>Earth</th>\n",
       "    </tr>\n",
       "    <tr>\n",
       "      <th>Description</th>\n",
       "      <th></th>\n",
       "      <th></th>\n",
       "    </tr>\n",
       "  </thead>\n",
       "  <tbody>\n",
       "    <tr>\n",
       "      <th>Mars - Earth Comparison</th>\n",
       "      <td>Mars</td>\n",
       "      <td>Earth</td>\n",
       "    </tr>\n",
       "    <tr>\n",
       "      <th>Diameter:</th>\n",
       "      <td>6,779 km</td>\n",
       "      <td>12,742 km</td>\n",
       "    </tr>\n",
       "    <tr>\n",
       "      <th>Mass:</th>\n",
       "      <td>6.39 × 10^23 kg</td>\n",
       "      <td>5.97 × 10^24 kg</td>\n",
       "    </tr>\n",
       "    <tr>\n",
       "      <th>Moons:</th>\n",
       "      <td>2</td>\n",
       "      <td>1</td>\n",
       "    </tr>\n",
       "    <tr>\n",
       "      <th>Distance from Sun:</th>\n",
       "      <td>227,943,824 km</td>\n",
       "      <td>149,598,262 km</td>\n",
       "    </tr>\n",
       "    <tr>\n",
       "      <th>Length of Year:</th>\n",
       "      <td>687 Earth days</td>\n",
       "      <td>365.24 days</td>\n",
       "    </tr>\n",
       "    <tr>\n",
       "      <th>Temperature:</th>\n",
       "      <td>-87 to -5 °C</td>\n",
       "      <td>-88 to 58°C</td>\n",
       "    </tr>\n",
       "  </tbody>\n",
       "</table>\n",
       "</div>"
      ],
      "text/plain": [
       "                                    Mars            Earth\n",
       "Description                                              \n",
       "Mars - Earth Comparison             Mars            Earth\n",
       "Diameter:                       6,779 km        12,742 km\n",
       "Mass:                    6.39 × 10^23 kg  5.97 × 10^24 kg\n",
       "Moons:                                 2                1\n",
       "Distance from Sun:        227,943,824 km   149,598,262 km\n",
       "Length of Year:           687 Earth days      365.24 days\n",
       "Temperature:                -87 to -5 °C      -88 to 58°C"
      ]
     },
     "execution_count": 13,
     "metadata": {},
     "output_type": "execute_result"
    }
   ],
   "source": [
    "fact_table .columns=['Description', 'Mars', 'Earth']\n",
    "fact_table .set_index('Description', inplace=True)\n",
    "fact_table "
   ]
  },
  {
   "cell_type": "code",
   "execution_count": 19,
   "id": "2296b128",
   "metadata": {},
   "outputs": [
    {
     "data": {
      "text/plain": [
       "'<table border=\"1\" class=\"dataframe\">\\n  <thead>\\n    <tr style=\"text-align: right;\">\\n      <th></th>\\n      <th>Mars</th>\\n      <th>Earth</th>\\n    </tr>\\n    <tr>\\n      <th>Description</th>\\n      <th></th>\\n      <th></th>\\n    </tr>\\n  </thead>\\n  <tbody>\\n    <tr>\\n      <th>Mars - Earth Comparison</th>\\n      <td>Mars</td>\\n      <td>Earth</td>\\n    </tr>\\n    <tr>\\n      <th>Diameter:</th>\\n      <td>6,779 km</td>\\n      <td>12,742 km</td>\\n    </tr>\\n    <tr>\\n      <th>Mass:</th>\\n      <td>6.39 × 10^23 kg</td>\\n      <td>5.97 × 10^24 kg</td>\\n    </tr>\\n    <tr>\\n      <th>Moons:</th>\\n      <td>2</td>\\n      <td>1</td>\\n    </tr>\\n    <tr>\\n      <th>Distance from Sun:</th>\\n      <td>227,943,824 km</td>\\n      <td>149,598,262 km</td>\\n    </tr>\\n    <tr>\\n      <th>Length of Year:</th>\\n      <td>687 Earth days</td>\\n      <td>365.24 days</td>\\n    </tr>\\n    <tr>\\n      <th>Temperature:</th>\\n      <td>-87 to -5 °C</td>\\n      <td>-88 to 58°C</td>\\n    </tr>\\n  </tbody>\\n</table>'"
      ]
     },
     "execution_count": 19,
     "metadata": {},
     "output_type": "execute_result"
    }
   ],
   "source": [
    "#convert into html table\n",
    "fact_table.to_html()\n",
    "mars_fact_table_html = fact_table.to_html()\n",
    "mars_fact_table_html"
   ]
  },
  {
   "cell_type": "markdown",
   "id": "9c848c24",
   "metadata": {},
   "source": [
    "# Hemisphere"
   ]
  },
  {
   "cell_type": "code",
   "execution_count": null,
   "id": "70a9e0ca",
   "metadata": {},
   "outputs": [],
   "source": [
    "  # Mars hemisphere name and image to be scraped\n",
    "browser.visit('https://marshemispheres.com')"
   ]
  },
  {
   "cell_type": "code",
   "execution_count": null,
   "id": "9648dcd4",
   "metadata": {},
   "outputs": [],
   "source": [
    "# list that holds images and titles.\n",
    "Mars_hemisphere_image_urls = []\n",
    "\n",
    "# Obtain a list of all hemispheres\n",
    "item_links = browser.find_by_css('a.product-item img')\n",
    "item_links[0].click()"
   ]
  },
  {
   "cell_type": "code",
   "execution_count": null,
   "id": "ba8d1c17",
   "metadata": {},
   "outputs": [],
   "source": [
    "img_soup = sp(browser.html, 'html.parser')"
   ]
  },
  {
   "cell_type": "code",
   "execution_count": null,
   "id": "4317b886",
   "metadata": {},
   "outputs": [],
   "source": [
    "from bs4 import BeautifulSoup as sp \n",
    "#Cerberus_Hemisphere_image  = sp.find('div', {\"class\":'downloads'})\n",
    "\n",
    "Cerberus_Hemisphere_image = img_soup.find('img', class_='wide-image').get('src')\n",
    "Cerberus_Hemisphere_image "
   ]
  },
  {
   "cell_type": "code",
   "execution_count": null,
   "id": "4dba9c51",
   "metadata": {},
   "outputs": [],
   "source": [
    "Cerberus_Hemisphere_image = f'https://marshemispheres.com/{Cerberus_Hemisphere_image}'\n",
    "Cerberus_Hemisphere_image"
   ]
  },
  {
   "cell_type": "code",
   "execution_count": null,
   "id": "4749b693",
   "metadata": {},
   "outputs": [],
   "source": [
    "#img_soup.find('div', class_='downloads')\n",
    "#img_soup.find_by_text('Sample').first"
   ]
  },
  {
   "cell_type": "code",
   "execution_count": null,
   "id": "1ecd6faa",
   "metadata": {},
   "outputs": [],
   "source": []
  },
  {
   "cell_type": "code",
   "execution_count": null,
   "id": "4c3ee996",
   "metadata": {},
   "outputs": [],
   "source": [
    " #go to the page that has all of the hemispheres on it \n",
    "\n",
    "browser.visit('https://marshemispheres.com')\n",
    "  # Iterate through each hemisphere data\n",
    "Mars_hemisphere_image_urls = []\n",
    "\n",
    "for i in range(len(item_links)):\n",
    "    hemisphere = {}\n",
    "    \n",
    "    browser.find_by_css('a.product-item img')[i].click()\n",
    "   \n",
    "    sample_elem = browser.links.find_by_text('Sample').first\n",
    "    hemisphere['img_url'] = sample_elem['href'] \n",
    "    \n",
    "    hemisphere['title'] = browser.find_by_css('h2.title').text\n",
    "    hemisphere_image_urls.append(hemisphere)\n",
    "    browser.back()"
   ]
  },
  {
   "cell_type": "code",
   "execution_count": null,
   "id": "09a3a79f",
   "metadata": {},
   "outputs": [],
   "source": []
  },
  {
   "cell_type": "code",
   "execution_count": null,
   "id": "ac8480b0",
   "metadata": {},
   "outputs": [],
   "source": [
    "# Get Hemisphere title\n",
    "    #hemisphere['title'] = browser.find_by_css('h2.title').text"
   ]
  },
  {
   "cell_type": "code",
   "execution_count": null,
   "id": "c0357d3f",
   "metadata": {},
   "outputs": [],
   "source": [
    "    # Append hemisphere object to list\n",
    "    #hemisphere_image_urls.append(hemisphere)\n",
    "    "
   ]
  },
  {
   "cell_type": "code",
   "execution_count": null,
   "id": "ee8372ae",
   "metadata": {},
   "outputs": [],
   "source": [
    "    # Finally, we navigate backwards\n",
    "    #browser.back()\n"
   ]
  },
  {
   "cell_type": "code",
   "execution_count": null,
   "id": "c989e534",
   "metadata": {},
   "outputs": [],
   "source": [
    "Mars_hemisphere_image_urls\n"
   ]
  },
  {
   "cell_type": "code",
   "execution_count": null,
   "id": "43481d59",
   "metadata": {},
   "outputs": [],
   "source": [
    "browser.quit()"
   ]
  },
  {
   "cell_type": "code",
   "execution_count": null,
   "id": "9f7d00d9",
   "metadata": {},
   "outputs": [],
   "source": []
  }
 ],
 "metadata": {
  "kernelspec": {
   "display_name": "Python [conda env:bootcamp] *",
   "language": "python",
   "name": "conda-env-bootcamp-py"
  },
  "language_info": {
   "codemirror_mode": {
    "name": "ipython",
    "version": 3
   },
   "file_extension": ".py",
   "mimetype": "text/x-python",
   "name": "python",
   "nbconvert_exporter": "python",
   "pygments_lexer": "ipython3",
   "version": "3.7.13"
  }
 },
 "nbformat": 4,
 "nbformat_minor": 5
}
